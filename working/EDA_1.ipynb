{
  "nbformat": 4,
  "nbformat_minor": 0,
  "metadata": {
    "colab": {
      "name": "EDA-1.ipynb",
      "provenance": [],
      "collapsed_sections": [],
      "authorship_tag": "ABX9TyPqTFJF41T4paHsP6WcDbUk",
      "include_colab_link": true
    },
    "kernelspec": {
      "name": "python3",
      "display_name": "Python 3"
    },
    "language_info": {
      "name": "python"
    }
  },
  "cells": [
    {
      "cell_type": "markdown",
      "metadata": {
        "id": "view-in-github",
        "colab_type": "text"
      },
      "source": [
        "<a href=\"https://colab.research.google.com/github/goya5858/kaggle-template/blob/main/working/EDA_1.ipynb\" target=\"_parent\"><img src=\"https://colab.research.google.com/assets/colab-badge.svg\" alt=\"Open In Colab\"/></a>"
      ]
    },
    {
      "cell_type": "markdown",
      "metadata": {
        "id": "DO8Aj3H68nPa"
      },
      "source": [
        "# Install libs"
      ]
    },
    {
      "cell_type": "code",
      "metadata": {
        "id": "kC5H84YW7Oj3"
      },
      "source": [
        "compe_name = \n",
        "%cd /content/drive/MyDrive/kaggle/works/$compe_name/working/\n",
        "\n",
        "!pip install -U albumentations\n",
        "!pip install -U torch\n",
        "\n",
        "import os\n",
        "import re\n",
        "import sys\n",
        "import time\n",
        "\n",
        "import gc\n",
        "from tqdm import tqdm_notebook as tqdm\n",
        "\n",
        "import numpy as np\n",
        "import pandas as pd\n",
        "import matplotlib.pyplot as plt\n",
        "import seaborn as sns\n",
        "\n",
        "import cv2\n",
        "import PIL.Image\n",
        "\n",
        "import torch\n",
        "import torch.nn as nn\n",
        "from torch.utils.data import Dataset, DataLoader\n",
        "\n",
        "import albumentations\n",
        "from albumentations.pytorch.transforms import ToTensorV2\n",
        "\n",
        "import torch.optim as optim\n",
        "from torch.optim import lr_scheduler\n",
        "\n",
        "import timm"
      ],
      "execution_count": null,
      "outputs": []
    },
    {
      "cell_type": "markdown",
      "metadata": {
        "id": "YL9_Nn6R8rIy"
      },
      "source": [
        "# Load Data"
      ]
    },
    {
      "cell_type": "code",
      "metadata": {
        "colab": {
          "base_uri": "https://localhost:8080/"
        },
        "id": "86BeybNe8tPQ",
        "outputId": "bae59364-1347-4789-9658-b2cfe62db8e8"
      },
      "source": [
        "ROOT = f\"../input/{compe_name}\"\n",
        "\n",
        "train = pd.read_csv(ROOT+'train.csv')\n",
        "test  = pd.read_csv(ROOT+'test.csv')\n",
        "ss    = pd.read_csv(ROOT+'sample_submission.csv')"
      ],
      "execution_count": 4,
      "outputs": [
        {
          "output_type": "stream",
          "text": [
            "../input/A\n"
          ],
          "name": "stdout"
        }
      ]
    }
  ]
}